{
 "cells": [
  {
   "cell_type": "code",
   "execution_count": 1,
   "id": "bbecc7a3",
   "metadata": {},
   "outputs": [],
   "source": [
    "import requests\n",
    "import pandas as pd\n",
    "import numpy as np\n",
    "from datetime import datetime, timedelta \n",
    "from pandas import json_normalize"
   ]
  },
  {
   "cell_type": "code",
   "execution_count": 2,
   "id": "1c1ed694",
   "metadata": {},
   "outputs": [],
   "source": [
    "start_date = \"2024-10-01\"\n",
    "end_date = \"2025-04-17\"\n",
    "\n",
    "# Generate a list of dates\n",
    "date_list = pd.date_range(start=start_date, end=end_date).tolist()\n",
    "\n",
    "# Display the list of dates\n",
    "date_list\n",
    "formatted_dates = [ts.strftime('%Y%m%d') for ts in date_list]"
   ]
  },
  {
   "cell_type": "code",
   "execution_count": 3,
   "id": "736dc3f8",
   "metadata": {},
   "outputs": [],
   "source": [
    "headers = {\n",
    "    'x-rapidapi-host': 'tank01-nhl-live-in-game-real-time-statistics-nhl.p.rapidapi.com',\n",
    "    'x-rapidapi-key': '0b46977328mshc54c6a2519cdb3cp1a59d6jsn0f22a97d01b4'\n",
    "}\n",
    "\n",
    "url =  'https://tank01-nhl-live-in-game-real-time-statistics-nhl.p.rapidapi.com/getNHLScoresOnly?gameDate=20240307' "
   ]
  },
  {
   "cell_type": "code",
   "execution_count": 5,
   "id": "ddb93cd2",
   "metadata": {},
   "outputs": [],
   "source": [
    "response = requests.get(url, headers=headers)\n",
    "data = response.json()"
   ]
  },
  {
   "cell_type": "code",
   "execution_count": 6,
   "id": "7c4d777a",
   "metadata": {},
   "outputs": [],
   "source": [
    "game_data = data['body']\n",
    "\n",
    "# Flatten the JSON into a DataFrame\n",
    "df = json_normalize(\n",
    "    game_data.values(),\n",
    "    sep='_',\n",
    "    record_path=None,\n",
    "    meta=[\n",
    "        'away', 'home', 'teamIDAway', 'teamIDHome', 'gameTime', 'gameTime_epoch',\n",
    "        'awayPoints', 'awayResult', 'awayTotal', 'homePoints', 'homeResult',\n",
    "        'homeTotal', 'currentPeriod', 'gameClock', 'gameStatus', 'overtime',\n",
    "        'shootout', 'gameID', 'gameStatusCode',\n",
    "        ['lineScore', 'period'],\n",
    "        ['lineScore', 'gameClock'],\n",
    "        ['lineScore', 'away', 'total'],\n",
    "        ['lineScore', 'away', '1OT'],\n",
    "        ['lineScore', 'away', 'teamID'],\n",
    "        ['lineScore', 'away', 'team'],\n",
    "        ['lineScore', 'away', 'teamAbv'],\n",
    "        ['lineScore', 'away', '3P'],\n",
    "        ['lineScore', 'away', '2P'],\n",
    "        ['lineScore', 'away', '1P'],\n",
    "        ['lineScore', 'home', 'total'],\n",
    "        ['lineScore', 'home', '1OT'],\n",
    "        ['lineScore', 'home', 'teamID'],\n",
    "        ['lineScore', 'home', 'team'],\n",
    "        ['lineScore', 'home', 'teamAbv'],\n",
    "        ['lineScore', 'home', '3P'],\n",
    "        ['lineScore', 'home', '2P'],\n",
    "        ['lineScore', 'home', '1P']\n",
    "    ]\n",
    ")\n"
   ]
  },
  {
   "cell_type": "code",
   "execution_count": 7,
   "id": "2b0b233a",
   "metadata": {},
   "outputs": [
    {
     "data": {
      "text/plain": [
       "0     W\n",
       "1     L\n",
       "2     W\n",
       "3     L\n",
       "4     L\n",
       "5     W\n",
       "6     L\n",
       "7     W\n",
       "8     W\n",
       "9     L\n",
       "10    L\n",
       "11    W\n",
       "Name: homeResult, dtype: object"
      ]
     },
     "execution_count": 7,
     "metadata": {},
     "output_type": "execute_result"
    }
   ],
   "source": [
    "df['homeResult']"
   ]
  },
  {
   "cell_type": "code",
   "execution_count": null,
   "id": "bfef2ae8",
   "metadata": {},
   "outputs": [],
   "source": []
  }
 ],
 "metadata": {
  "kernelspec": {
   "display_name": "Python 3 (ipykernel)",
   "language": "python",
   "name": "python3"
  },
  "language_info": {
   "codemirror_mode": {
    "name": "ipython",
    "version": 3
   },
   "file_extension": ".py",
   "mimetype": "text/x-python",
   "name": "python",
   "nbconvert_exporter": "python",
   "pygments_lexer": "ipython3",
   "version": "3.7.7"
  }
 },
 "nbformat": 4,
 "nbformat_minor": 5
}
